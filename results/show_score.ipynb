{
 "cells": [
  {
   "cell_type": "code",
   "execution_count": 3,
   "metadata": {},
   "outputs": [
    {
     "name": "stdout",
     "output_type": "stream",
     "text": [
      "mean-----------------------\n",
      "ACC            0.564550\n",
      "ACC_ind        0.629206\n",
      "ACC_ood        0.435236\n",
      "f1             0.609708\n",
      "f1_ind         0.638792\n",
      "f1_ood         0.551541\n",
      "micro-f1       0.588364\n",
      "weighted-f1    0.584097\n",
      "em             0.207594\n",
      "hamming        0.435450\n",
      "auroc          0.564713\n",
      "n_ints_acc     0.581022\n",
      "dtype: float64\n"
     ]
    }
   ],
   "source": [
    "import os\n",
    "import pandas as pd\n",
    "\n",
    "DIR = os.getcwd()\n",
    "\n",
    "model = \"Ours\"\n",
    "plm = \"bert-base-uncased\" # bert-base-uncased roberta-base distilbert-base-uncased\n",
    "dataset = \"mixsnips_clean\" # stackoverflow oos banking\n",
    "known_cls_ratio = 0.25\n",
    "\n",
    "file = f\"{model}_{plm}_{dataset}{known_cls_ratio}.csv\"\n",
    "\n",
    "# file = \"multigpu.csv\"\n",
    "\n",
    "df = pd.read_csv(os.path.join(DIR, file))\n",
    "cols = df.columns.drop('model_name')\n",
    "\n",
    "print(\"mean-----------------------\")\n",
    "print(df[cols].mean())\n",
    "# print(df.mean())\n",
    "# print(\"max-----------------------\")\n",
    "# print(df[cols].max())\n",
    "# print(\"min-----------------------\")\n",
    "# print(df[cols].min())"
   ]
  },
  {
   "cell_type": "code",
   "execution_count": null,
   "metadata": {},
   "outputs": [],
   "source": []
  }
 ],
 "metadata": {
  "kernelspec": {
   "display_name": "base",
   "language": "python",
   "name": "python3"
  },
  "language_info": {
   "codemirror_mode": {
    "name": "ipython",
    "version": 3
   },
   "file_extension": ".py",
   "mimetype": "text/x-python",
   "name": "python",
   "nbconvert_exporter": "python",
   "pygments_lexer": "ipython3",
   "version": "3.10.11"
  },
  "orig_nbformat": 4
 },
 "nbformat": 4,
 "nbformat_minor": 2
}
